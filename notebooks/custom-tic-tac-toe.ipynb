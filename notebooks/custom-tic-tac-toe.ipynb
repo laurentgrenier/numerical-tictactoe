{
 "cells": [
  {
   "cell_type": "markdown",
   "metadata": {},
   "source": [
    "# A personal version of the TIC-TAC-TOE algorithm"
   ]
  },
  {
   "cell_type": "code",
   "execution_count": null,
   "metadata": {},
   "outputs": [],
   "source": [
    "import numpy as np\n",
    "from enum import Enum"
   ]
  },
  {
   "cell_type": "code",
   "execution_count": 92,
   "metadata": {},
   "outputs": [],
   "source": [
    "class Board():\n",
    "    def __init__(self,size=(3,3)):\n",
    "        self.grid = np.zeros(size, dtype='uint8')        \n",
    "        \n",
    "    def update(self, move):\n",
    "        if self.grid[move[0], move[1]] == 0:\n",
    "            self.grid[move[0], move[1]] = move[2]\n",
    "            return True\n",
    "        else:\n",
    "            return False\n",
    "        \n",
    "    \n",
    "    def simulate(self, move):\n",
    "        sgrid = self.grid.copy()\n",
    "        sgrid[move[0], move[1]] = move[2]\n",
    "        return sgrid\n",
    "\n",
    "def evaluate_grid(grid):        \n",
    "        # 1 for a good situation\n",
    "        # -1 for an opponent given victory\n",
    "        # 0.5 for a draw situation\n",
    "        # 0 for a move with low consequences\n",
    "        win_score = 15\n",
    "        \n",
    "        # win on a row        \n",
    "        if win_score in np.sum(grid, axis=1):\n",
    "            return 1 \n",
    "            \n",
    "        # win on a col\n",
    "        if win_score in np.sum(grid, axis=0):\n",
    "            return 1\n",
    "        \n",
    "        # win on the diag\n",
    "        if win_score == np.diag(grid).sum():\n",
    "            return 1\n",
    "        \n",
    "        # win on the inverse diag\n",
    "        if win_score == np.diag(np.fliplr(grid)).sum():\n",
    "            return 1                \n",
    "        \n",
    "        # draw if all is filled and nobody has win\n",
    "        if len(np.where(grid == 0)[0]) == 0:\n",
    "            return 0.5\n",
    "                        \n",
    "        return 0\n",
    "\n",
    "    \n",
    "def get_possible_actions(grid, pawns):\n",
    "        result = []\n",
    "        availables_moves = np.array(np.where(grid == 0)).T\n",
    "                \n",
    "        for i,j in availables_moves:\n",
    "            for k in pawns:                \n",
    "                result.append(tuple((i,j,k,0,\"0\")))\n",
    "        \n",
    "        return result\n",
    "    \n",
    "def recursive_exploration(grid, pfirst_pawns, psecond_pawns, action=(0,0,0,0,\"0\"), factor=-1, actions = [], limit=3):\n",
    "    # print(\"recursive_exploration: \", pfirst_pawns, psecond_pawns)\n",
    "    value = evaluate_grid(grid)        \n",
    "    \n",
    "    # not ended game\n",
    "    if value == 0 and len(action[4].split(\".\")) < limit:                \n",
    "        actions.append(tuple(action))\n",
    "        branch = action[4]\n",
    "        \n",
    "        k = 0\n",
    "        # evaluate all possible actions\n",
    "        for action in get_possible_actions(grid, pfirst_pawns):\n",
    "         \n",
    "            # increment the branch\n",
    "            k += 1\n",
    "            # remove the pawn used in the action\n",
    "            first_pawns = [pawn for pawn in pfirst_pawns if pawn != action[2]]\n",
    "            # update the grid\n",
    "            new_grid = grid.copy()\n",
    "            new_grid[action[0], action[1]] = action[2]            \n",
    "            # continue exploration                        \n",
    "            recursive_exploration(new_grid, psecond_pawns, first_pawns, (action[0], action[1], action[2], value*factor, branch + \".\" + str(k)), \n",
    "                                  factor*-1, actions, limit)\n",
    "    # no more places to play\n",
    "    else:                \n",
    "        # actions.append(tuple(action))\n",
    "        actions.append(tuple((action[0], action[1], action[2], value*factor, action[4])))\n",
    "    \n",
    "    return actions\n",
    "\n"
   ]
  },
  {
   "cell_type": "code",
   "execution_count": 143,
   "metadata": {},
   "outputs": [],
   "source": [
    "def evaluate_grid(grid):        \n",
    "        # 1 for a good situation\n",
    "        # -1 for an opponent given victory\n",
    "        # 0.5 for a draw situation\n",
    "        # 0 for a move with low consequences\n",
    "        win_score = 15\n",
    "        \n",
    "        # win on a row        \n",
    "        if win_score in [grid[:,i].sum() if 0 not in grid[:,i] else 0 for i in range(0,grid.shape[1])]:\n",
    "            return 1 \n",
    "            \n",
    "        # win on a col\n",
    "        if win_score in [grid[i,:].sum() if 0 not in grid[i,:] else 0 for i in range(0,grid.shape[0])]:\n",
    "            return 1\n",
    "        \n",
    "        # win on the diag\n",
    "        if win_score == np.diag(grid).sum() and not 0 in np.diag(grid):\n",
    "            return 1\n",
    "        \n",
    "        # win on the inverse diag\n",
    "        if win_score == np.diag(np.fliplr(grid)).sum() and not 0 in np.diag(np.fliplr(grid)):\n",
    "            return 1                \n",
    "        \n",
    "        # draw if all is filled and nobody has win\n",
    "        if len(np.where(grid == 0)[0]) == 0:\n",
    "            return 0.5\n",
    "                        \n",
    "        return 0"
   ]
  },
  {
   "cell_type": "code",
   "execution_count": 145,
   "metadata": {},
   "outputs": [
    {
     "name": "stdout",
     "output_type": "stream",
     "text": [
      "[10, 0, 13]\n"
     ]
    },
    {
     "data": {
      "text/plain": [
       "1"
      ]
     },
     "execution_count": 145,
     "metadata": {},
     "output_type": "execute_result"
    }
   ],
   "source": [
    "grid = np.array([[1,7,3], [8,0,7], [1,8,3]])\n",
    "evaluate_grid(grid)"
   ]
  },
  {
   "cell_type": "code",
   "execution_count": null,
   "metadata": {},
   "outputs": [],
   "source": [
    "scoresdef get_best_move(possibilities):\n",
    "    # search for the max score \n",
    "    max_score = np.array([node[3] for node in possibilities]).max()\n",
    "    \n",
    "    path = []\n",
    "    # search for the node with max score\n",
    "    for node in possibilities:\n",
    "        if node[3] == max_score:\n",
    "            path.append(node)\n",
    "            break;\n",
    "        \n",
    "    parents_paths = path[0][4].split(\".\")  \n",
    "    selected_path = parents_paths[0] + \".\" + parents_paths[1] \n",
    "        \n",
    "    for possibility in possibilities:\n",
    "        if possibility[4] == selected_path:\n",
    "            return possibility\n",
    "            \n",
    "    return None\n"
   ]
  },
  {
   "cell_type": "code",
   "execution_count": null,
   "metadata": {},
   "outputs": [],
   "source": [
    "def game():\n",
    "    board = Board()\n",
    "    quit = False\n",
    "    turn = 0\n",
    "    pawns = [[2,4,6,8], [1,3,5,7,9]]    \n",
    "    players = [{'name':'Player 2', 'id':2, 'pawns':[2,4,6,8], 'type': 'HUM'}, \n",
    "               {'name':'Player 1', 'id':1, 'pawns':[1,3,5,7,9], 'type': 'CPU'}]\n",
    "    \n",
    "    while state.evaluate(board.grid) == 0:\n",
    "        turn += 1\n",
    "        print(\"turn {}\".format(turn))\n",
    "        print(\"{} ({}): \".format(players[1]['name'], players[1]['type']), players[1]['pawns'],              \n",
    "              \"\\t{} ({}): \".format(players[0]['name'], players[0]['type']), players[0]['pawns'])                \n",
    "        print(\"player {} turn.\".format(players[turn % 2]['name']))\n",
    "        print(board.grid)\n",
    "        \n",
    "        move_validate = False\n",
    "        while not move_validate:            \n",
    "            if players[turn % 2]['type'] == \"HUM\":\n",
    "                option = input(\"[Q] Quit [row,col,pawn] To play\\n\")\n",
    "\n",
    "                quit = option == \"Q\" or option == \"q\"\n",
    "\n",
    "                if quit:\n",
    "                    print(\"leaving\")\n",
    "                    break;          \n",
    "\n",
    "                move = [int(value) for value in option.split(\",\")]     \n",
    "\n",
    "                if move[2] in players[turn % 2]['pawns']:\n",
    "                    move_validate = board.update(move)            \n",
    "\n",
    "                    if not move_validate:\n",
    "                        print(\"Invalid move\")\n",
    "                    else:\n",
    "                        players[turn % 2]['pawns'] = [pawn for pawn in players[turn % 2]['pawns'] if pawn != move[2]]\n",
    "                else:\n",
    "                    print(\"Invalid pawn for {}. Valid are: \".format(players[turn % 2]['name']), players[turn % 2]['pawns'])\n",
    "            else:                \n",
    "                print(\"WHATT?\",players[turn % 2]['pawns'])\n",
    "                # get possibles actions\n",
    "                possibilities = recursive_exploration(board.grid, players[turn % 2]['pawns'], players[(turn+1) % 2]['pawns'], limit=4)                \n",
    "                print(possibilities[:3])\n",
    "                # get the best move\n",
    "                action = get_best_move(possibilities)\n",
    "                \n",
    "                print(\"action: \", action)\n",
    "                move = [action[0], action[1], action[2]]\n",
    "                \n",
    "                if move[2] in players[turn % 2]['pawns']:\n",
    "                    print(\"move: \", move)\n",
    "                    move_validate = board.update(move)            \n",
    "\n",
    "                    if not move_validate:\n",
    "                        print(\"Invalid move\")\n",
    "                    else:\n",
    "                        players[turn % 2]['pawns'] = [pawn for pawn in players[turn % 2]['pawns'] if pawn != move[2]]\n",
    "                else:\n",
    "                    print(\"Invalid pawn for {}. Valid are: \".format(players[turn % 2]['name']), players[turn % 2]['pawns'])\n",
    "        if quit:\n",
    "                break;\n",
    "    \n",
    "    print(board.grid)        \n",
    "    \n",
    "    if state.evaluate(board.grid) == 1:\n",
    "        \n",
    "        print(\"{} WINS !\".format(players[turn % 2]['name'] ))\n",
    "                \n",
    "    print(\"Thanks for playing\")\n",
    "\n",
    "game()"
   ]
  },
  {
   "cell_type": "code",
   "execution_count": 94,
   "metadata": {},
   "outputs": [
    {
     "data": {
      "text/plain": [
       "(0, 1, 1, 0, '0.1')"
      ]
     },
     "execution_count": 94,
     "metadata": {},
     "output_type": "execute_result"
    }
   ],
   "source": [
    "possibilities = recursive_exploration(board.grid, [1,3,5,7,9], [2,3,5,7,9], limit=4)  \n",
    "get_best_move(possibilities)"
   ]
  },
  {
   "cell_type": "code",
   "execution_count": 138,
   "metadata": {},
   "outputs": [
    {
     "name": "stdout",
     "output_type": "stream",
     "text": [
      "(b'0.9.8.12', 0.25)\n"
     ]
    }
   ],
   "source": [
    "values = [(node[4],float(node[3]/len(node[4].split(\".\")))) for node in possibilities]\n",
    "dtype = [('path', 'S10'), ('score', float)]\n",
    "values = np.array(values, dtype=dtype)\n",
    "values = np.sort(values, order=['score']) \n",
    "\n",
    "print(values[-1])\n",
    "# print(np.unique(np.array([node[3] for node in possibilities])))\n"
   ]
  },
  {
   "cell_type": "code",
   "execution_count": 105,
   "metadata": {},
   "outputs": [
    {
     "data": {
      "text/plain": [
       "array([[['path', '0'],\n",
       "        ['score', '0.0']],\n",
       "\n",
       "       [['path', '0.1'],\n",
       "        ['score', '0.0']],\n",
       "\n",
       "       [['path', '0.1.1'],\n",
       "        ['score', '0.0']],\n",
       "\n",
       "       ...,\n",
       "\n",
       "       [['path', '0.35.30.18'],\n",
       "        ['score', '0.0']],\n",
       "\n",
       "       [['path', '0.35.30.19'],\n",
       "        ['score', '0.0']],\n",
       "\n",
       "       [['path', '0.35.30.20'],\n",
       "        ['score', '0.0']]], dtype='<U19')"
      ]
     },
     "execution_count": 105,
     "metadata": {},
     "output_type": "execute_result"
    }
   ],
   "source": [
    "scores"
   ]
  },
  {
   "cell_type": "code",
   "execution_count": 101,
   "metadata": {},
   "outputs": [
    {
     "data": {
      "text/plain": [
       "array([-0.33333333, -0.33333333, -0.33333333, ...,  0.25      ,\n",
       "        0.25      ,  0.25      ])"
      ]
     },
     "execution_count": 101,
     "metadata": {},
     "output_type": "execute_result"
    }
   ],
   "source": [
    "max_score"
   ]
  },
  {
   "cell_type": "code",
   "execution_count": null,
   "metadata": {},
   "outputs": [],
   "source": []
  }
 ],
 "metadata": {
  "kernelspec": {
   "display_name": "Python 3",
   "language": "python",
   "name": "python3"
  },
  "language_info": {
   "codemirror_mode": {
    "name": "ipython",
    "version": 3
   },
   "file_extension": ".py",
   "mimetype": "text/x-python",
   "name": "python",
   "nbconvert_exporter": "python",
   "pygments_lexer": "ipython3",
   "version": "3.6.9"
  }
 },
 "nbformat": 4,
 "nbformat_minor": 4
}
